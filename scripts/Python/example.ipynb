{
 "cells": [
  {
   "cell_type": "code",
   "execution_count": null,
   "metadata": {},
   "outputs": [],
   "source": [
    "# from nominatim_utils import get_coordinates, geocode_df\n",
    "import nominatim_utils\n",
    "import pandas as pd\n",
    "import geopandas as gpd\n",
    "import numpy as np"
   ]
  },
  {
   "cell_type": "code",
   "execution_count": null,
   "metadata": {},
   "outputs": [],
   "source": [
    "# Importar una capa con paradas de colectivos del Municipio de Tres de Febrero\n",
    "url = 'https://geoportal.tresdefebrero.gob.ar/geoserver/ows?service=wfs&version=1.1.0&request=GetFeature&typename=geonode%3Aparadas_municipales'\n",
    "gdf = gpd.read_file(url)\n",
    "gdf = gdf.drop(columns='fin')\n",
    "gdf.head()"
   ]
  },
  {
   "cell_type": "code",
   "execution_count": null,
   "metadata": {},
   "outputs": [],
   "source": [
    "# Eliminar la geometría para utilizar como ejemplo\n",
    "df = pd.DataFrame(gdf.drop(columns='geometry'))\n",
    "df.head()"
   ]
  },
  {
   "cell_type": "code",
   "execution_count": null,
   "metadata": {},
   "outputs": [],
   "source": [
    "# Georreferenciar la primera fila de la base\n",
    "nominatim_utils.get_coordinates(country= 'Argentina', state = 'Buenos Aires', city = 'Tres de Febrero',\n",
    "                        street = df.direc[1])"
   ]
  },
  {
   "cell_type": "code",
   "execution_count": null,
   "metadata": {},
   "outputs": [],
   "source": [
    "# Georreferenciar todas las filas del data frame\n",
    "df = nominatim_utils.geocode_df(df, country='Argentina', state='Buenos Aires', city='Tres de Febrero',\n",
    "                                full_address_col='direc')\n",
    "df.head()"
   ]
  },
  {
   "cell_type": "code",
   "execution_count": null,
   "metadata": {},
   "outputs": [],
   "source": [
    "# Convertir a GeoDataFrame\n",
    "gdf2 = gpd.GeoDataFrame(data=df, geometry=gpd.points_from_xy(df.longitude, df.latitude), crs='epsg:4326')\n",
    "gdf2.head()"
   ]
  },
  {
   "cell_type": "code",
   "execution_count": null,
   "metadata": {},
   "outputs": [],
   "source": [
    "# Graficar los puntos que logró georreferenciar\n",
    "gdf2[gdf2.geometry.is_empty==False].explore()"
   ]
  }
 ],
 "metadata": {
  "kernelspec": {
   "display_name": "Python 3",
   "language": "python",
   "name": "python3"
  },
  "language_info": {
   "codemirror_mode": {
    "name": "ipython",
    "version": 3
   },
   "file_extension": ".py",
   "mimetype": "text/x-python",
   "name": "python",
   "nbconvert_exporter": "python",
   "pygments_lexer": "ipython3",
   "version": "3.9.6"
  },
  "orig_nbformat": 4
 },
 "nbformat": 4,
 "nbformat_minor": 2
}
