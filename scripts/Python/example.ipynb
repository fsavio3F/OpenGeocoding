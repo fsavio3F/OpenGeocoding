{
 "cells": [
  {
   "cell_type": "code",
   "execution_count": 9,
   "metadata": {},
   "outputs": [],
   "source": [
    "# from nominatim_utils import get_coordinates, geocode_df\n",
    "import nominatim_utils\n",
    "import pandas as pd\n",
    "import geopandas as gpd\n",
    "import numpy as np"
   ]
  },
  {
   "cell_type": "code",
   "execution_count": 10,
   "metadata": {},
   "outputs": [
    {
     "data": {
      "text/html": [
       "<div>\n",
       "<style scoped>\n",
       "    .dataframe tbody tr th:only-of-type {\n",
       "        vertical-align: middle;\n",
       "    }\n",
       "\n",
       "    .dataframe tbody tr th {\n",
       "        vertical-align: top;\n",
       "    }\n",
       "\n",
       "    .dataframe thead th {\n",
       "        text-align: right;\n",
       "    }\n",
       "</style>\n",
       "<table border=\"1\" class=\"dataframe\">\n",
       "  <thead>\n",
       "    <tr style=\"text-align: right;\">\n",
       "      <th></th>\n",
       "      <th>gml_id</th>\n",
       "      <th>fid</th>\n",
       "      <th>poligono</th>\n",
       "      <th>direc</th>\n",
       "      <th>local</th>\n",
       "      <th>intersec</th>\n",
       "      <th>estado</th>\n",
       "      <th>modelo</th>\n",
       "      <th>geometry</th>\n",
       "    </tr>\n",
       "  </thead>\n",
       "  <tbody>\n",
       "    <tr>\n",
       "      <th>0</th>\n",
       "      <td>paradas_municipales.1</td>\n",
       "      <td>1</td>\n",
       "      <td>Ciudad Jardín P.M.</td>\n",
       "      <td>Aviador German Wernicke 2407</td>\n",
       "      <td>Ciudad Jardín</td>\n",
       "      <td>Alas Argentinas y Conde Zéppelin</td>\n",
       "      <td>EN EJECUCIÓN</td>\n",
       "      <td>REFUGIO PM</td>\n",
       "      <td>POINT (-58.59117 -34.59477)</td>\n",
       "    </tr>\n",
       "    <tr>\n",
       "      <th>1</th>\n",
       "      <td>paradas_municipales.2</td>\n",
       "      <td>2</td>\n",
       "      <td>Ciudad Jardín P.M.</td>\n",
       "      <td>Aviador German Wernicke 3099</td>\n",
       "      <td>Ciudad Jardín</td>\n",
       "      <td>Esquina Plaza del Avión</td>\n",
       "      <td>EN EJECUCIÓN</td>\n",
       "      <td>REFUGIO PM</td>\n",
       "      <td>POINT (-58.59262 -34.60243)</td>\n",
       "    </tr>\n",
       "    <tr>\n",
       "      <th>2</th>\n",
       "      <td>paradas_municipales.3</td>\n",
       "      <td>3</td>\n",
       "      <td>Corredor Matienzo</td>\n",
       "      <td>Aviador Teniente Benjamín Matienzo 2589</td>\n",
       "      <td>Ciudad Jardín</td>\n",
       "      <td>Agnetta y Palazzo</td>\n",
       "      <td>EN EJECUCIÓN</td>\n",
       "      <td>REFUGIO PM</td>\n",
       "      <td>POINT (-58.59454 -34.59707)</td>\n",
       "    </tr>\n",
       "    <tr>\n",
       "      <th>3</th>\n",
       "      <td>paradas_municipales.4</td>\n",
       "      <td>4</td>\n",
       "      <td>Ciudad Jardín P.M.</td>\n",
       "      <td>Bv. General San Martín 2943</td>\n",
       "      <td>Ciudad Jardín</td>\n",
       "      <td>De los Ceibos y De los Jacarandaes</td>\n",
       "      <td>EN EJECUCIÓN</td>\n",
       "      <td>REFUGIO PM</td>\n",
       "      <td>POINT (-58.59276 -34.60333)</td>\n",
       "    </tr>\n",
       "    <tr>\n",
       "      <th>4</th>\n",
       "      <td>paradas_municipales.5</td>\n",
       "      <td>5</td>\n",
       "      <td>Ciudad Jardín P.M.</td>\n",
       "      <td>Bv. General San Martín 3100</td>\n",
       "      <td>Ciudad Jardín</td>\n",
       "      <td>Rosetti y De los Aromos</td>\n",
       "      <td>EN EJECUCIÓN</td>\n",
       "      <td>BANCO</td>\n",
       "      <td>POINT (-58.59330 -34.60439)</td>\n",
       "    </tr>\n",
       "  </tbody>\n",
       "</table>\n",
       "</div>"
      ],
      "text/plain": [
       "                  gml_id  fid            poligono   \n",
       "0  paradas_municipales.1    1  Ciudad Jardín P.M.  \\\n",
       "1  paradas_municipales.2    2  Ciudad Jardín P.M.   \n",
       "2  paradas_municipales.3    3   Corredor Matienzo   \n",
       "3  paradas_municipales.4    4  Ciudad Jardín P.M.   \n",
       "4  paradas_municipales.5    5  Ciudad Jardín P.M.   \n",
       "\n",
       "                                     direc          local   \n",
       "0             Aviador German Wernicke 2407  Ciudad Jardín  \\\n",
       "1             Aviador German Wernicke 3099  Ciudad Jardín   \n",
       "2  Aviador Teniente Benjamín Matienzo 2589  Ciudad Jardín   \n",
       "3              Bv. General San Martín 2943  Ciudad Jardín   \n",
       "4              Bv. General San Martín 3100  Ciudad Jardín   \n",
       "\n",
       "                             intersec        estado      modelo   \n",
       "0    Alas Argentinas y Conde Zéppelin  EN EJECUCIÓN  REFUGIO PM  \\\n",
       "1             Esquina Plaza del Avión  EN EJECUCIÓN  REFUGIO PM   \n",
       "2                   Agnetta y Palazzo  EN EJECUCIÓN  REFUGIO PM   \n",
       "3  De los Ceibos y De los Jacarandaes  EN EJECUCIÓN  REFUGIO PM   \n",
       "4             Rosetti y De los Aromos  EN EJECUCIÓN       BANCO   \n",
       "\n",
       "                      geometry  \n",
       "0  POINT (-58.59117 -34.59477)  \n",
       "1  POINT (-58.59262 -34.60243)  \n",
       "2  POINT (-58.59454 -34.59707)  \n",
       "3  POINT (-58.59276 -34.60333)  \n",
       "4  POINT (-58.59330 -34.60439)  "
      ]
     },
     "execution_count": 10,
     "metadata": {},
     "output_type": "execute_result"
    }
   ],
   "source": [
    "# Importar una capa con paradas de colectivos del Municipio de Tres de Febrero\n",
    "url = 'https://geoportal.tresdefebrero.gob.ar/geoserver/ows?service=wfs&version=1.1.0&request=GetFeature&typename=geonode%3Aparadas_municipales'\n",
    "gdf = gpd.read_file(url)\n",
    "gdf = gdf.drop(columns='fin')\n",
    "gdf.head()"
   ]
  },
  {
   "cell_type": "code",
   "execution_count": 11,
   "metadata": {},
   "outputs": [
    {
     "data": {
      "text/html": [
       "<div>\n",
       "<style scoped>\n",
       "    .dataframe tbody tr th:only-of-type {\n",
       "        vertical-align: middle;\n",
       "    }\n",
       "\n",
       "    .dataframe tbody tr th {\n",
       "        vertical-align: top;\n",
       "    }\n",
       "\n",
       "    .dataframe thead th {\n",
       "        text-align: right;\n",
       "    }\n",
       "</style>\n",
       "<table border=\"1\" class=\"dataframe\">\n",
       "  <thead>\n",
       "    <tr style=\"text-align: right;\">\n",
       "      <th></th>\n",
       "      <th>gml_id</th>\n",
       "      <th>fid</th>\n",
       "      <th>poligono</th>\n",
       "      <th>direc</th>\n",
       "      <th>local</th>\n",
       "      <th>intersec</th>\n",
       "      <th>estado</th>\n",
       "      <th>modelo</th>\n",
       "    </tr>\n",
       "  </thead>\n",
       "  <tbody>\n",
       "    <tr>\n",
       "      <th>0</th>\n",
       "      <td>paradas_municipales.1</td>\n",
       "      <td>1</td>\n",
       "      <td>Ciudad Jardín P.M.</td>\n",
       "      <td>Aviador German Wernicke 2407</td>\n",
       "      <td>Ciudad Jardín</td>\n",
       "      <td>Alas Argentinas y Conde Zéppelin</td>\n",
       "      <td>EN EJECUCIÓN</td>\n",
       "      <td>REFUGIO PM</td>\n",
       "    </tr>\n",
       "    <tr>\n",
       "      <th>1</th>\n",
       "      <td>paradas_municipales.2</td>\n",
       "      <td>2</td>\n",
       "      <td>Ciudad Jardín P.M.</td>\n",
       "      <td>Aviador German Wernicke 3099</td>\n",
       "      <td>Ciudad Jardín</td>\n",
       "      <td>Esquina Plaza del Avión</td>\n",
       "      <td>EN EJECUCIÓN</td>\n",
       "      <td>REFUGIO PM</td>\n",
       "    </tr>\n",
       "    <tr>\n",
       "      <th>2</th>\n",
       "      <td>paradas_municipales.3</td>\n",
       "      <td>3</td>\n",
       "      <td>Corredor Matienzo</td>\n",
       "      <td>Aviador Teniente Benjamín Matienzo 2589</td>\n",
       "      <td>Ciudad Jardín</td>\n",
       "      <td>Agnetta y Palazzo</td>\n",
       "      <td>EN EJECUCIÓN</td>\n",
       "      <td>REFUGIO PM</td>\n",
       "    </tr>\n",
       "    <tr>\n",
       "      <th>3</th>\n",
       "      <td>paradas_municipales.4</td>\n",
       "      <td>4</td>\n",
       "      <td>Ciudad Jardín P.M.</td>\n",
       "      <td>Bv. General San Martín 2943</td>\n",
       "      <td>Ciudad Jardín</td>\n",
       "      <td>De los Ceibos y De los Jacarandaes</td>\n",
       "      <td>EN EJECUCIÓN</td>\n",
       "      <td>REFUGIO PM</td>\n",
       "    </tr>\n",
       "    <tr>\n",
       "      <th>4</th>\n",
       "      <td>paradas_municipales.5</td>\n",
       "      <td>5</td>\n",
       "      <td>Ciudad Jardín P.M.</td>\n",
       "      <td>Bv. General San Martín 3100</td>\n",
       "      <td>Ciudad Jardín</td>\n",
       "      <td>Rosetti y De los Aromos</td>\n",
       "      <td>EN EJECUCIÓN</td>\n",
       "      <td>BANCO</td>\n",
       "    </tr>\n",
       "  </tbody>\n",
       "</table>\n",
       "</div>"
      ],
      "text/plain": [
       "                  gml_id  fid            poligono   \n",
       "0  paradas_municipales.1    1  Ciudad Jardín P.M.  \\\n",
       "1  paradas_municipales.2    2  Ciudad Jardín P.M.   \n",
       "2  paradas_municipales.3    3   Corredor Matienzo   \n",
       "3  paradas_municipales.4    4  Ciudad Jardín P.M.   \n",
       "4  paradas_municipales.5    5  Ciudad Jardín P.M.   \n",
       "\n",
       "                                     direc          local   \n",
       "0             Aviador German Wernicke 2407  Ciudad Jardín  \\\n",
       "1             Aviador German Wernicke 3099  Ciudad Jardín   \n",
       "2  Aviador Teniente Benjamín Matienzo 2589  Ciudad Jardín   \n",
       "3              Bv. General San Martín 2943  Ciudad Jardín   \n",
       "4              Bv. General San Martín 3100  Ciudad Jardín   \n",
       "\n",
       "                             intersec        estado      modelo  \n",
       "0    Alas Argentinas y Conde Zéppelin  EN EJECUCIÓN  REFUGIO PM  \n",
       "1             Esquina Plaza del Avión  EN EJECUCIÓN  REFUGIO PM  \n",
       "2                   Agnetta y Palazzo  EN EJECUCIÓN  REFUGIO PM  \n",
       "3  De los Ceibos y De los Jacarandaes  EN EJECUCIÓN  REFUGIO PM  \n",
       "4             Rosetti y De los Aromos  EN EJECUCIÓN       BANCO  "
      ]
     },
     "execution_count": 11,
     "metadata": {},
     "output_type": "execute_result"
    }
   ],
   "source": [
    "# Eliminar la geometría para utilizar como ejemplo\n",
    "df = pd.DataFrame(gdf.drop(columns='geometry'))\n",
    "df.head()"
   ]
  },
  {
   "cell_type": "code",
   "execution_count": 12,
   "metadata": {},
   "outputs": [
    {
     "name": "stdout",
     "output_type": "stream",
     "text": [
      "http://localhost:8080/search?country=Argentina&state=Buenos Aires&city=Tres de Febrero&street=Aviador German Wernicke 3099&format=json\n"
     ]
    }
   ],
   "source": [
    "# Mostrar cómo se crea la consulta a la API usando la primera fila de la base\n",
    "url = nominatim_utils.get_coordinates_url(country= 'Argentina', state = 'Buenos Aires', city = 'Tres de Febrero',\n",
    "                        street = df.direc[1])\n",
    "print(url)"
   ]
  },
  {
   "cell_type": "code",
   "execution_count": 19,
   "metadata": {},
   "outputs": [
    {
     "data": {
      "text/plain": [
       "{'place_id': 2323179,\n",
       " 'licence': 'Data © OpenStreetMap contributors, ODbL 1.0. https://osm.org/copyright',\n",
       " 'osm_type': 'way',\n",
       " 'osm_id': 28788393,\n",
       " 'boundingbox': ['-34.5998449', '-34.5974207', '-58.5916724', '-58.5914696'],\n",
       " 'lat': '-34.598728',\n",
       " 'lon': '-58.5916056',\n",
       " 'display_name': '749 - Aviador Germán Wernicke, Ciudad Jardín Lomas del Palomar, Partido de Tres de Febrero, Buenos Aires, 1685, Argentina',\n",
       " 'class': 'highway',\n",
       " 'type': 'tertiary',\n",
       " 'importance': 0.91001}"
      ]
     },
     "execution_count": 19,
     "metadata": {},
     "output_type": "execute_result"
    }
   ],
   "source": [
    "# Mostrar el primer resultado de la consulta en formato JSON\n",
    "nominatim_utils.request_requests_json(url)"
   ]
  },
  {
   "cell_type": "code",
   "execution_count": 20,
   "metadata": {},
   "outputs": [
    {
     "name": "stdout",
     "output_type": "stream",
     "text": [
      "{'place_id': 2323179, 'licence': 'Data © OpenStreetMap contributors, ODbL 1.0. https://osm.org/copyright', 'osm_type': 'way', 'osm_id': 28788393, 'boundingbox': ['-34.5998449', '-34.5974207', '-58.5916724', '-58.5914696'], 'lat': '-34.598728', 'lon': '-58.5916056', 'display_name': '749 - Aviador Germán Wernicke, Ciudad Jardín Lomas del Palomar, Partido de Tres de Febrero, Buenos Aires, 1685, Argentina', 'class': 'highway', 'type': 'tertiary', 'importance': 0.91001}\n"
     ]
    }
   ],
   "source": [
    "# Georreferenciar la primera fila de la base. Devuelve el primer resultado de la consulta\n",
    "print(nominatim_utils.get_coordinates(country= 'Argentina', state = 'Buenos Aires', city = 'Tres de Febrero',\n",
    "                        street = df.direc[1]))"
   ]
  },
  {
   "cell_type": "code",
   "execution_count": null,
   "metadata": {},
   "outputs": [],
   "source": [
    "# Georreferenciar todas las filas del data frame\n",
    "df = nominatim_utils.geocode_df(df, country='Argentina', state='Buenos Aires', city='Tres de Febrero',\n",
    "                                full_address_col='direc')\n",
    "df.head()"
   ]
  },
  {
   "cell_type": "code",
   "execution_count": null,
   "metadata": {},
   "outputs": [],
   "source": [
    "# Convertir a GeoDataFrame\n",
    "gdf2 = gpd.GeoDataFrame(data=df, geometry=gpd.points_from_xy(df.longitude, df.latitude), crs='epsg:4326')\n",
    "gdf2.head()"
   ]
  },
  {
   "cell_type": "code",
   "execution_count": null,
   "metadata": {},
   "outputs": [],
   "source": [
    "# Graficar los puntos que logró georreferenciar\n",
    "gdf2[gdf2.geometry.is_empty==False].explore()"
   ]
  }
 ],
 "metadata": {
  "kernelspec": {
   "display_name": "Python 3",
   "language": "python",
   "name": "python3"
  },
  "language_info": {
   "codemirror_mode": {
    "name": "ipython",
    "version": 3
   },
   "file_extension": ".py",
   "mimetype": "text/x-python",
   "name": "python",
   "nbconvert_exporter": "python",
   "pygments_lexer": "ipython3",
   "version": "3.9.6"
  },
  "orig_nbformat": 4
 },
 "nbformat": 4,
 "nbformat_minor": 2
}
